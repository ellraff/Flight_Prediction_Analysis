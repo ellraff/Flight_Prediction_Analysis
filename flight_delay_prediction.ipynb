{
 "cells": [
  {
   "cell_type": "code",
   "execution_count": 135,
   "id": "56f17824",
   "metadata": {},
   "outputs": [],
   "source": [
    "import pandas as pd\n",
    "import numpy as np\n",
    "from sklearn.ensemble import RandomForestClassifier\n",
    "from sklearn.preprocessing import StandardScaler\n",
    "from sklearn.model_selection import train_test_split"
   ]
  },
  {
   "cell_type": "code",
   "execution_count": 126,
   "id": "ad6c713d",
   "metadata": {},
   "outputs": [],
   "source": [
    "df = pd.read_csv('https://ellenbrafferty-bucket.s3.amazonaws.com/capstone_data/flight_delays.csv')\n"
   ]
  },
  {
   "cell_type": "code",
   "execution_count": 141,
   "id": "bfe0bc97",
   "metadata": {},
   "outputs": [],
   "source": [
    "flights = df.copy()"
   ]
  },
  {
   "cell_type": "code",
   "execution_count": 142,
   "id": "f286a391",
   "metadata": {},
   "outputs": [],
   "source": [
    "cities_map = {}\n",
    "airports_map = {}\n",
    "count = 1\n",
    "for i, row in flights.iterrows():\n",
    "    city_name = row['origin_city_name']\n",
    "    city_id = count\n",
    "    state = row['origin_state_nm']\n",
    "    if city_name not in cities_map.keys():\n",
    "        cities_map[city_name] = {'city_id': count, 'state': state}\n",
    "        count +=1\n",
    "    \n",
    "    air_id = row['origin_airport_id']\n",
    "    air_code = row['origin_airport_code']\n",
    "    if air_id not in airports_map.keys():\n",
    "        airports_map[air_id] = air_code"
   ]
  },
  {
   "cell_type": "code",
   "execution_count": 143,
   "id": "eb49816d",
   "metadata": {},
   "outputs": [],
   "source": [
    "flights['origin_city_id'] = flights.apply(lambda row: cities_map[row['origin_city_name']]['city_id'], axis = 1)\n",
    "flights['dest_city_id'] = flights.apply(lambda row: cities_map[row['dest_city_name']]['city_id'], axis = 1)\n",
    "flights = flights.replace(np.nan, 0)"
   ]
  },
  {
   "cell_type": "code",
   "execution_count": 144,
   "id": "42d68287",
   "metadata": {},
   "outputs": [],
   "source": [
    "flights.loc[flights['arr_delay']<=15, 'arr_delay'] = 0\n",
    "flights.loc[flights['arr_delay']>=15, 'arr_delay'] = 1"
   ]
  },
  {
   "cell_type": "code",
   "execution_count": 145,
   "id": "f6466e50",
   "metadata": {
    "scrolled": true
   },
   "outputs": [],
   "source": [
    "str_cols = flights.select_dtypes(include='object').columns.tolist()\n",
    "delay_df = flights.drop(columns = str_cols)"
   ]
  },
  {
   "cell_type": "code",
   "execution_count": 146,
   "id": "656d7b50",
   "metadata": {},
   "outputs": [],
   "source": [
    "y = delay_df['arr_delay']\n",
    "X = delay_df.drop(columns = 'arr_delay')"
   ]
  },
  {
   "cell_type": "code",
   "execution_count": 136,
   "id": "37a397a2",
   "metadata": {},
   "outputs": [],
   "source": [
    "X_train, X_test, y_train, y_test = train_test_split(X, \n",
    "                                                    y, \n",
    "                                                    random_state=78)"
   ]
  },
  {
   "cell_type": "code",
   "execution_count": 137,
   "id": "ce34bcfc",
   "metadata": {},
   "outputs": [],
   "source": [
    "scaler = StandardScaler()\n",
    "X_scaler = scaler.fit(X_train)\n",
    "\n",
    "X_train_scaled = X_scaler.transform(X_train)\n",
    "X_test_scaled = X_scaler.transform(X_test)"
   ]
  },
  {
   "cell_type": "code",
   "execution_count": 140,
   "id": "46f14f6f",
   "metadata": {},
   "outputs": [
    {
     "data": {
      "text/plain": [
       "RandomForestClassifier(n_estimators=128, random_state=78)"
      ]
     },
     "execution_count": 140,
     "metadata": {},
     "output_type": "execute_result"
    }
   ],
   "source": [
    "rf_model = RandomForestClassifier(n_estimators=128, random_state=78)\n",
    "rf_model.fit(X_train_scaled, y_train)"
   ]
  }
 ],
 "metadata": {
  "kernelspec": {
   "display_name": "mlenv",
   "language": "python",
   "name": "mlenv"
  },
  "language_info": {
   "codemirror_mode": {
    "name": "ipython",
    "version": 3
   },
   "file_extension": ".py",
   "mimetype": "text/x-python",
   "name": "python",
   "nbconvert_exporter": "python",
   "pygments_lexer": "ipython3",
   "version": "3.7.11"
  }
 },
 "nbformat": 4,
 "nbformat_minor": 5
}
