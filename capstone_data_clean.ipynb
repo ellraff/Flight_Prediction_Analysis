{
  "nbformat": 4,
  "nbformat_minor": 0,
  "metadata": {
    "colab": {
      "name": "capstone_data_clean.ipynb",
      "provenance": [],
      "collapsed_sections": []
    },
    "kernelspec": {
      "name": "python3",
      "display_name": "Python 3"
    },
    "language_info": {
      "name": "python"
    }
  },
  "cells": [
    {
      "cell_type": "code",
      "metadata": {
        "colab": {
          "base_uri": "https://localhost:8080/"
        },
        "id": "tGSydc0guVI5",
        "outputId": "9760dd22-d164-404b-e5bf-7cfa78711455"
      },
      "source": [
        "pip install pyspark"
      ],
      "execution_count": 88,
      "outputs": [
        {
          "output_type": "stream",
          "name": "stdout",
          "text": [
            "Requirement already satisfied: pyspark in /usr/local/lib/python3.7/dist-packages (3.2.0)\n",
            "Requirement already satisfied: py4j==0.10.9.2 in /usr/local/lib/python3.7/dist-packages (from pyspark) (0.10.9.2)\n"
          ]
        }
      ]
    },
    {
      "cell_type": "code",
      "metadata": {
        "colab": {
          "base_uri": "https://localhost:8080/"
        },
        "id": "RKlse_rOuaf8",
        "outputId": "0adb462c-ed8e-4af2-86f8-dd1bffe7ce7d"
      },
      "source": [
        "import os\n",
        "spark_version = 'spark-3.0.3'\n",
        "os.environ['SPARK_VERSION']=spark_version\n",
        "\n",
        "# Install Spark and Java\n",
        "!apt-get update\n",
        "!apt-get install openjdk-11-jdk-headless -qq > /dev/null\n",
        "!wget -q http://www.apache.org/dist/spark/$SPARK_VERSION/$SPARK_VERSION-bin-hadoop2.7.tgz\n",
        "!tar xf $SPARK_VERSION-bin-hadoop2.7.tgz\n",
        "!pip install -q findspark\n",
        "\n",
        "# Set Environment Variables\n",
        "import os\n",
        "os.environ[\"JAVA_HOME\"] = \"/usr/lib/jvm/java-11-openjdk-amd64\"\n",
        "os.environ[\"SPARK_HOME\"] = f\"/content/{spark_version}-bin-hadoop2.7\"\n",
        "\n",
        "# Start a SparkSession\n",
        "import findspark\n",
        "findspark.init()"
      ],
      "execution_count": 89,
      "outputs": [
        {
          "output_type": "stream",
          "name": "stdout",
          "text": [
            "\r0% [Working]\r            \rGet:1 http://security.ubuntu.com/ubuntu bionic-security InRelease [88.7 kB]\n",
            "\r0% [Connecting to archive.ubuntu.com (91.189.88.152)] [1 InRelease 14.2 kB/88.7\r0% [Waiting for headers] [Waiting for headers] [Waiting for headers] [Waiting f\r                                                                               \rHit:2 https://cloud.r-project.org/bin/linux/ubuntu bionic-cran40/ InRelease\n",
            "\r                                                                               \rIgn:3 https://developer.download.nvidia.com/compute/cuda/repos/ubuntu1804/x86_64  InRelease\n",
            "\r                                                                               \r0% [Waiting for headers] [Waiting for headers] [Waiting for headers]\r0% [1 InRelease gpgv 88.7 kB] [Waiting for headers] [Waiting for headers] [Wait\r                                                                               \rHit:4 http://ppa.launchpad.net/c2d4u.team/c2d4u4.0+/ubuntu bionic InRelease\n",
            "\r0% [1 InRelease gpgv 88.7 kB] [Waiting for headers] [Connecting to ppa.launchpa\r                                                                               \rHit:5 http://archive.ubuntu.com/ubuntu bionic InRelease\n",
            "\r0% [1 InRelease gpgv 88.7 kB] [Waiting for headers] [Connecting to ppa.launchpa\r                                                                               \rIgn:6 https://developer.download.nvidia.com/compute/machine-learning/repos/ubuntu1804/x86_64  InRelease\n",
            "\r0% [1 InRelease gpgv 88.7 kB] [Waiting for headers] [Connecting to ppa.launchpa\r                                                                               \rHit:7 https://developer.download.nvidia.com/compute/cuda/repos/ubuntu1804/x86_64  Release\n",
            "Hit:8 https://developer.download.nvidia.com/compute/machine-learning/repos/ubuntu1804/x86_64  Release\n",
            "Get:9 http://archive.ubuntu.com/ubuntu bionic-updates InRelease [88.7 kB]\n",
            "Hit:10 http://ppa.launchpad.net/cran/libgit2/ubuntu bionic InRelease\n",
            "Hit:11 http://ppa.launchpad.net/deadsnakes/ppa/ubuntu bionic InRelease\n",
            "Get:12 http://archive.ubuntu.com/ubuntu bionic-backports InRelease [74.6 kB]\n",
            "Hit:13 http://ppa.launchpad.net/graphics-drivers/ppa/ubuntu bionic InRelease\n",
            "Get:16 http://archive.ubuntu.com/ubuntu bionic-updates/main amd64 Packages [2,867 kB]\n",
            "Fetched 3,119 kB in 3s (1,136 kB/s)\n",
            "Reading package lists... Done\n"
          ]
        }
      ]
    },
    {
      "cell_type": "code",
      "metadata": {
        "colab": {
          "base_uri": "https://localhost:8080/"
        },
        "id": "X7U9KgMJudNH",
        "outputId": "56164a3e-7122-437b-f0a5-75bbb2c6d7ca"
      },
      "source": [
        "# Download the Postgres driver\n",
        "!wget https://jdbc.postgresql.org/download/postgresql-42.2.16.jar"
      ],
      "execution_count": 90,
      "outputs": [
        {
          "output_type": "stream",
          "name": "stdout",
          "text": [
            "--2021-11-20 22:44:27--  https://jdbc.postgresql.org/download/postgresql-42.2.16.jar\n",
            "Resolving jdbc.postgresql.org (jdbc.postgresql.org)... 72.32.157.228, 2001:4800:3e1:1::228\n",
            "Connecting to jdbc.postgresql.org (jdbc.postgresql.org)|72.32.157.228|:443... connected.\n",
            "HTTP request sent, awaiting response... 200 OK\n",
            "Length: 1002883 (979K) [application/java-archive]\n",
            "Saving to: ‘postgresql-42.2.16.jar.1’\n",
            "\n",
            "postgresql-42.2.16. 100%[===================>] 979.38K  --.-KB/s    in 0.1s    \n",
            "\n",
            "2021-11-20 22:44:27 (6.63 MB/s) - ‘postgresql-42.2.16.jar.1’ saved [1002883/1002883]\n",
            "\n"
          ]
        }
      ]
    },
    {
      "cell_type": "code",
      "metadata": {
        "id": "910UR-T7ui2V"
      },
      "source": [
        "from pyspark.sql import SparkSession\n",
        "spark = SparkSession.builder.appName(\"Capstone\").config(\"spark.driver.extraClassPath\",\"/content/postgresql-42.2.16.jar\").getOrCreate()"
      ],
      "execution_count": 91,
      "outputs": []
    },
    {
      "cell_type": "code",
      "metadata": {
        "colab": {
          "base_uri": "https://localhost:8080/"
        },
        "id": "3t0E39ZXu9Yh",
        "outputId": "5bb48261-11d9-44f9-c4fd-2e06f7fbec62"
      },
      "source": [
        "from pyspark import SparkFiles\n",
        "url = \"https://ellenbrafferty-bucket.s3.amazonaws.com/capstone_data/Flights_Aug_2021.csv\"\n",
        "spark.sparkContext.addFile(url)\n",
        "df = spark.read.option(\"encoding\", \"UTF-8\").csv(SparkFiles.get(\"\"), sep=\",\", header=True, inferSchema=True)\n",
        "df.show()"
      ],
      "execution_count": 92,
      "outputs": [
        {
          "output_type": "stream",
          "name": "stdout",
          "text": [
            "+----+-----+------------+----------+-----------------+-----------------+---------------------+---------------------+------+----------------+---------------+---------------+-------------------+-------------------+----+--------------+--------------+------------+------------+-------------+------------+---------+--------+-------+--------+-------------+-------------+---------+--------------+-------------------+----+\n",
            "|YEAR|MONTH|DAY_OF_MONTH|   FL_DATE|OP_CARRIER_FL_NUM|ORIGIN_AIRPORT_ID|ORIGIN_AIRPORT_SEQ_ID|ORIGIN_CITY_MARKET_ID|ORIGIN|ORIGIN_CITY_NAME|ORIGIN_STATE_NM|DEST_AIRPORT_ID|DEST_AIRPORT_SEQ_ID|DEST_CITY_MARKET_ID|DEST|DEST_CITY_NAME| DEST_STATE_NM|CRS_DEP_TIME|CRS_ARR_TIME|ARR_DELAY_NEW|ARR_TIME_BLK|CANCELLED|AIR_TIME|FLIGHTS|DISTANCE|CARRIER_DELAY|WEATHER_DELAY|NAS_DELAY|SECURITY_DELAY|LATE_AIRCRAFT_DELAY|_c30|\n",
            "+----+-----+------------+----------+-----------------+-----------------+---------------------+---------------------+------+----------------+---------------+---------------+-------------------+-------------------+----+--------------+--------------+------------+------------+-------------+------------+---------+--------+-------+--------+-------------+-------------+---------+--------------+-------------------+----+\n",
            "|2021|    8|           5|2021-08-05|             5574|            10599|              1059904|                30599|   BHM|  Birmingham, AL|        Alabama|          11057|            1105703|              31057| CLT| Charlotte, NC|North Carolina|        1914|        2151|          0.0|   2100-2159|      0.0|    65.0|    1.0|   350.0|         null|         null|     null|          null|               null|null|\n",
            "|2021|    8|           6|2021-08-06|             5574|            10599|              1059904|                30599|   BHM|  Birmingham, AL|        Alabama|          11057|            1105703|              31057| CLT| Charlotte, NC|North Carolina|        1914|        2151|         31.0|   2100-2159|      0.0|    57.0|    1.0|   350.0|          0.0|          0.0|      0.0|           0.0|               31.0|null|\n",
            "|2021|    8|           8|2021-08-08|             5574|            10599|              1059904|                30599|   BHM|  Birmingham, AL|        Alabama|          11057|            1105703|              31057| CLT| Charlotte, NC|North Carolina|        1914|        2151|          0.0|   2100-2159|      0.0|    55.0|    1.0|   350.0|         null|         null|     null|          null|               null|null|\n",
            "|2021|    8|           9|2021-08-09|             5574|            10599|              1059904|                30599|   BHM|  Birmingham, AL|        Alabama|          11057|            1105703|              31057| CLT| Charlotte, NC|North Carolina|        1914|        2151|          0.0|   2100-2159|      0.0|    59.0|    1.0|   350.0|         null|         null|     null|          null|               null|null|\n",
            "|2021|    8|          10|2021-08-10|             5574|            10599|              1059904|                30599|   BHM|  Birmingham, AL|        Alabama|          11057|            1105703|              31057| CLT| Charlotte, NC|North Carolina|        1914|        2151|         48.0|   2100-2159|      0.0|    57.0|    1.0|   350.0|          0.0|          0.0|      0.0|           0.0|               48.0|null|\n",
            "|2021|    8|          11|2021-08-11|             5574|            10599|              1059904|                30599|   BHM|  Birmingham, AL|        Alabama|          11057|            1105703|              31057| CLT| Charlotte, NC|North Carolina|        1914|        2151|         54.0|   2100-2159|      0.0|    60.0|    1.0|   350.0|          0.0|          0.0|     29.0|           0.0|               25.0|null|\n",
            "|2021|    8|          12|2021-08-12|             5574|            10599|              1059904|                30599|   BHM|  Birmingham, AL|        Alabama|          11057|            1105703|              31057| CLT| Charlotte, NC|North Carolina|        1914|        2151|         69.0|   2100-2159|      0.0|    54.0|    1.0|   350.0|          0.0|          0.0|      0.0|           0.0|               69.0|null|\n",
            "|2021|    8|          13|2021-08-13|             5574|            10599|              1059904|                30599|   BHM|  Birmingham, AL|        Alabama|          11057|            1105703|              31057| CLT| Charlotte, NC|North Carolina|        1914|        2151|         89.0|   2100-2159|      0.0|    58.0|    1.0|   350.0|          0.0|          0.0|     70.0|           0.0|               19.0|null|\n",
            "|2021|    8|          15|2021-08-15|             5574|            10599|              1059904|                30599|   BHM|  Birmingham, AL|        Alabama|          11057|            1105703|              31057| CLT| Charlotte, NC|North Carolina|        1914|        2151|         null|   2100-2159|      1.0|    null|    1.0|   350.0|         null|         null|     null|          null|               null|null|\n",
            "|2021|    8|          16|2021-08-16|             5574|            10599|              1059904|                30599|   BHM|  Birmingham, AL|        Alabama|          11057|            1105703|              31057| CLT| Charlotte, NC|North Carolina|        1914|        2151|         36.0|   2100-2159|      0.0|    56.0|    1.0|   350.0|          0.0|          0.0|      0.0|           0.0|               36.0|null|\n",
            "|2021|    8|          18|2021-08-18|             5574|            10599|              1059904|                30599|   BHM|  Birmingham, AL|        Alabama|          11057|            1105703|              31057| CLT| Charlotte, NC|North Carolina|        1914|        2151|          0.0|   2100-2159|      0.0|    60.0|    1.0|   350.0|         null|         null|     null|          null|               null|null|\n",
            "|2021|    8|          19|2021-08-19|             5574|            10599|              1059904|                30599|   BHM|  Birmingham, AL|        Alabama|          11057|            1105703|              31057| CLT| Charlotte, NC|North Carolina|        1914|        2151|         71.0|   2100-2159|      0.0|    57.0|    1.0|   350.0|          0.0|          0.0|      5.0|           0.0|               66.0|null|\n",
            "|2021|    8|          20|2021-08-20|             5574|            10599|              1059904|                30599|   BHM|  Birmingham, AL|        Alabama|          11057|            1105703|              31057| CLT| Charlotte, NC|North Carolina|        1914|        2151|          0.0|   2100-2159|      0.0|    58.0|    1.0|   350.0|         null|         null|     null|          null|               null|null|\n",
            "|2021|    8|          22|2021-08-22|             5574|            10599|              1059904|                30599|   BHM|  Birmingham, AL|        Alabama|          11057|            1105703|              31057| CLT| Charlotte, NC|North Carolina|        1914|        2151|          9.0|   2100-2159|      0.0|    73.0|    1.0|   350.0|         null|         null|     null|          null|               null|null|\n",
            "|2021|    8|          25|2021-08-25|             5574|            10599|              1059904|                30599|   BHM|  Birmingham, AL|        Alabama|          11057|            1105703|              31057| CLT| Charlotte, NC|North Carolina|        1914|        2151|         74.0|   2100-2159|      0.0|    65.0|    1.0|   350.0|          0.0|          0.0|     22.0|           0.0|               52.0|null|\n",
            "|2021|    8|          26|2021-08-26|             5574|            10599|              1059904|                30599|   BHM|  Birmingham, AL|        Alabama|          11057|            1105703|              31057| CLT| Charlotte, NC|North Carolina|        1914|        2151|         20.0|   2100-2159|      0.0|    65.0|    1.0|   350.0|          0.0|          0.0|     20.0|           0.0|                0.0|null|\n",
            "|2021|    8|          27|2021-08-27|             5574|            10599|              1059904|                30599|   BHM|  Birmingham, AL|        Alabama|          11057|            1105703|              31057| CLT| Charlotte, NC|North Carolina|        1914|        2151|          0.0|   2100-2159|      0.0|    66.0|    1.0|   350.0|         null|         null|     null|          null|               null|null|\n",
            "|2021|    8|          29|2021-08-29|             5574|            10599|              1059904|                30599|   BHM|  Birmingham, AL|        Alabama|          11057|            1105703|              31057| CLT| Charlotte, NC|North Carolina|        1914|        2151|          0.0|   2100-2159|      0.0|    64.0|    1.0|   350.0|         null|         null|     null|          null|               null|null|\n",
            "|2021|    8|           1|2021-08-01|             5574|            11057|              1105703|                31057|   CLT|   Charlotte, NC| North Carolina|          10599|            1059904|              30599| BHM|Birmingham, AL|       Alabama|        1816|        1844|          0.0|   1800-1859|      0.0|    62.0|    1.0|   350.0|         null|         null|     null|          null|               null|null|\n",
            "|2021|    8|           2|2021-08-02|             5574|            11057|              1105703|                31057|   CLT|   Charlotte, NC| North Carolina|          10599|            1059904|              30599| BHM|Birmingham, AL|       Alabama|        1816|        1844|          0.0|   1800-1859|      0.0|    61.0|    1.0|   350.0|         null|         null|     null|          null|               null|null|\n",
            "+----+-----+------------+----------+-----------------+-----------------+---------------------+---------------------+------+----------------+---------------+---------------+-------------------+-------------------+----+--------------+--------------+------------+------------+-------------+------------+---------+--------+-------+--------+-------------+-------------+---------+--------------+-------------------+----+\n",
            "only showing top 20 rows\n",
            "\n"
          ]
        }
      ]
    },
    {
      "cell_type": "code",
      "metadata": {
        "id": "1He4_ehs3Sy9"
      },
      "source": [
        "from pyspark.sql.functions import col, unix_timestamp, to_date\n",
        "df = df.withColumn('flight_date', \n",
        "                   to_date(\"FL_DATE\", 'yyyy-MM-dd'))"
      ],
      "execution_count": 93,
      "outputs": []
    },
    {
      "cell_type": "code",
      "metadata": {
        "id": "c_zd9LuA4qdd"
      },
      "source": [
        "df = df.drop('FL_DATE','_c30')"
      ],
      "execution_count": 94,
      "outputs": []
    },
    {
      "cell_type": "code",
      "metadata": {
        "colab": {
          "base_uri": "https://localhost:8080/"
        },
        "id": "V-g4T1icwHFn",
        "outputId": "bfa93f4e-4b88-4e9f-9d7a-158da48a40d8"
      },
      "source": [
        "df.show()"
      ],
      "execution_count": 95,
      "outputs": [
        {
          "output_type": "stream",
          "name": "stdout",
          "text": [
            "+----+-----+------------+-----------------+-----------------+---------------------+---------------------+------+----------------+---------------+---------------+-------------------+-------------------+----+--------------+--------------+------------+------------+-------------+------------+---------+--------+-------+--------+-------------+-------------+---------+--------------+-------------------+-----------+\n",
            "|YEAR|MONTH|DAY_OF_MONTH|OP_CARRIER_FL_NUM|ORIGIN_AIRPORT_ID|ORIGIN_AIRPORT_SEQ_ID|ORIGIN_CITY_MARKET_ID|ORIGIN|ORIGIN_CITY_NAME|ORIGIN_STATE_NM|DEST_AIRPORT_ID|DEST_AIRPORT_SEQ_ID|DEST_CITY_MARKET_ID|DEST|DEST_CITY_NAME| DEST_STATE_NM|CRS_DEP_TIME|CRS_ARR_TIME|ARR_DELAY_NEW|ARR_TIME_BLK|CANCELLED|AIR_TIME|FLIGHTS|DISTANCE|CARRIER_DELAY|WEATHER_DELAY|NAS_DELAY|SECURITY_DELAY|LATE_AIRCRAFT_DELAY|flight_date|\n",
            "+----+-----+------------+-----------------+-----------------+---------------------+---------------------+------+----------------+---------------+---------------+-------------------+-------------------+----+--------------+--------------+------------+------------+-------------+------------+---------+--------+-------+--------+-------------+-------------+---------+--------------+-------------------+-----------+\n",
            "|2021|    8|           5|             5574|            10599|              1059904|                30599|   BHM|  Birmingham, AL|        Alabama|          11057|            1105703|              31057| CLT| Charlotte, NC|North Carolina|        1914|        2151|          0.0|   2100-2159|      0.0|    65.0|    1.0|   350.0|         null|         null|     null|          null|               null| 2021-08-05|\n",
            "|2021|    8|           6|             5574|            10599|              1059904|                30599|   BHM|  Birmingham, AL|        Alabama|          11057|            1105703|              31057| CLT| Charlotte, NC|North Carolina|        1914|        2151|         31.0|   2100-2159|      0.0|    57.0|    1.0|   350.0|          0.0|          0.0|      0.0|           0.0|               31.0| 2021-08-06|\n",
            "|2021|    8|           8|             5574|            10599|              1059904|                30599|   BHM|  Birmingham, AL|        Alabama|          11057|            1105703|              31057| CLT| Charlotte, NC|North Carolina|        1914|        2151|          0.0|   2100-2159|      0.0|    55.0|    1.0|   350.0|         null|         null|     null|          null|               null| 2021-08-08|\n",
            "|2021|    8|           9|             5574|            10599|              1059904|                30599|   BHM|  Birmingham, AL|        Alabama|          11057|            1105703|              31057| CLT| Charlotte, NC|North Carolina|        1914|        2151|          0.0|   2100-2159|      0.0|    59.0|    1.0|   350.0|         null|         null|     null|          null|               null| 2021-08-09|\n",
            "|2021|    8|          10|             5574|            10599|              1059904|                30599|   BHM|  Birmingham, AL|        Alabama|          11057|            1105703|              31057| CLT| Charlotte, NC|North Carolina|        1914|        2151|         48.0|   2100-2159|      0.0|    57.0|    1.0|   350.0|          0.0|          0.0|      0.0|           0.0|               48.0| 2021-08-10|\n",
            "|2021|    8|          11|             5574|            10599|              1059904|                30599|   BHM|  Birmingham, AL|        Alabama|          11057|            1105703|              31057| CLT| Charlotte, NC|North Carolina|        1914|        2151|         54.0|   2100-2159|      0.0|    60.0|    1.0|   350.0|          0.0|          0.0|     29.0|           0.0|               25.0| 2021-08-11|\n",
            "|2021|    8|          12|             5574|            10599|              1059904|                30599|   BHM|  Birmingham, AL|        Alabama|          11057|            1105703|              31057| CLT| Charlotte, NC|North Carolina|        1914|        2151|         69.0|   2100-2159|      0.0|    54.0|    1.0|   350.0|          0.0|          0.0|      0.0|           0.0|               69.0| 2021-08-12|\n",
            "|2021|    8|          13|             5574|            10599|              1059904|                30599|   BHM|  Birmingham, AL|        Alabama|          11057|            1105703|              31057| CLT| Charlotte, NC|North Carolina|        1914|        2151|         89.0|   2100-2159|      0.0|    58.0|    1.0|   350.0|          0.0|          0.0|     70.0|           0.0|               19.0| 2021-08-13|\n",
            "|2021|    8|          15|             5574|            10599|              1059904|                30599|   BHM|  Birmingham, AL|        Alabama|          11057|            1105703|              31057| CLT| Charlotte, NC|North Carolina|        1914|        2151|         null|   2100-2159|      1.0|    null|    1.0|   350.0|         null|         null|     null|          null|               null| 2021-08-15|\n",
            "|2021|    8|          16|             5574|            10599|              1059904|                30599|   BHM|  Birmingham, AL|        Alabama|          11057|            1105703|              31057| CLT| Charlotte, NC|North Carolina|        1914|        2151|         36.0|   2100-2159|      0.0|    56.0|    1.0|   350.0|          0.0|          0.0|      0.0|           0.0|               36.0| 2021-08-16|\n",
            "|2021|    8|          18|             5574|            10599|              1059904|                30599|   BHM|  Birmingham, AL|        Alabama|          11057|            1105703|              31057| CLT| Charlotte, NC|North Carolina|        1914|        2151|          0.0|   2100-2159|      0.0|    60.0|    1.0|   350.0|         null|         null|     null|          null|               null| 2021-08-18|\n",
            "|2021|    8|          19|             5574|            10599|              1059904|                30599|   BHM|  Birmingham, AL|        Alabama|          11057|            1105703|              31057| CLT| Charlotte, NC|North Carolina|        1914|        2151|         71.0|   2100-2159|      0.0|    57.0|    1.0|   350.0|          0.0|          0.0|      5.0|           0.0|               66.0| 2021-08-19|\n",
            "|2021|    8|          20|             5574|            10599|              1059904|                30599|   BHM|  Birmingham, AL|        Alabama|          11057|            1105703|              31057| CLT| Charlotte, NC|North Carolina|        1914|        2151|          0.0|   2100-2159|      0.0|    58.0|    1.0|   350.0|         null|         null|     null|          null|               null| 2021-08-20|\n",
            "|2021|    8|          22|             5574|            10599|              1059904|                30599|   BHM|  Birmingham, AL|        Alabama|          11057|            1105703|              31057| CLT| Charlotte, NC|North Carolina|        1914|        2151|          9.0|   2100-2159|      0.0|    73.0|    1.0|   350.0|         null|         null|     null|          null|               null| 2021-08-22|\n",
            "|2021|    8|          25|             5574|            10599|              1059904|                30599|   BHM|  Birmingham, AL|        Alabama|          11057|            1105703|              31057| CLT| Charlotte, NC|North Carolina|        1914|        2151|         74.0|   2100-2159|      0.0|    65.0|    1.0|   350.0|          0.0|          0.0|     22.0|           0.0|               52.0| 2021-08-25|\n",
            "|2021|    8|          26|             5574|            10599|              1059904|                30599|   BHM|  Birmingham, AL|        Alabama|          11057|            1105703|              31057| CLT| Charlotte, NC|North Carolina|        1914|        2151|         20.0|   2100-2159|      0.0|    65.0|    1.0|   350.0|          0.0|          0.0|     20.0|           0.0|                0.0| 2021-08-26|\n",
            "|2021|    8|          27|             5574|            10599|              1059904|                30599|   BHM|  Birmingham, AL|        Alabama|          11057|            1105703|              31057| CLT| Charlotte, NC|North Carolina|        1914|        2151|          0.0|   2100-2159|      0.0|    66.0|    1.0|   350.0|         null|         null|     null|          null|               null| 2021-08-27|\n",
            "|2021|    8|          29|             5574|            10599|              1059904|                30599|   BHM|  Birmingham, AL|        Alabama|          11057|            1105703|              31057| CLT| Charlotte, NC|North Carolina|        1914|        2151|          0.0|   2100-2159|      0.0|    64.0|    1.0|   350.0|         null|         null|     null|          null|               null| 2021-08-29|\n",
            "|2021|    8|           1|             5574|            11057|              1105703|                31057|   CLT|   Charlotte, NC| North Carolina|          10599|            1059904|              30599| BHM|Birmingham, AL|       Alabama|        1816|        1844|          0.0|   1800-1859|      0.0|    62.0|    1.0|   350.0|         null|         null|     null|          null|               null| 2021-08-01|\n",
            "|2021|    8|           2|             5574|            11057|              1105703|                31057|   CLT|   Charlotte, NC| North Carolina|          10599|            1059904|              30599| BHM|Birmingham, AL|       Alabama|        1816|        1844|          0.0|   1800-1859|      0.0|    61.0|    1.0|   350.0|         null|         null|     null|          null|               null| 2021-08-02|\n",
            "+----+-----+------------+-----------------+-----------------+---------------------+---------------------+------+----------------+---------------+---------------+-------------------+-------------------+----+--------------+--------------+------------+------------+-------------+------------+---------+--------+-------+--------+-------------+-------------+---------+--------------+-------------------+-----------+\n",
            "only showing top 20 rows\n",
            "\n"
          ]
        }
      ]
    },
    {
      "cell_type": "code",
      "metadata": {
        "id": "xBi1fdA1yM06"
      },
      "source": [
        "ml_cols = ['YEAR', 'MONTH', 'DAY_OF_MONTH', 'OP_CARRIER_FL_NUM','ORIGIN_AIRPORT_ID', 'ORIGIN', 'ORIGIN_CITY_NAME', 'ORIGIN_STATE_NM', 'DEST_AIRPORT_ID', 'DEST', 'DEST_CITY_NAME', 'DEST_STATE_NM', 'CRS_DEP_TIME', 'CRS_ARR_TIME', 'ARR_DELAY_NEW', 'CANCELLED', 'AIR_TIME', 'FLIGHTS', 'DISTANCE', 'CARRIER_DELAY', 'WEATHER_DELAY', 'NAS_DELAY', 'SECURITY_DELAY', 'LATE_AIRCRAFT_DELAY']\n",
        "ml_df = df.select(ml_cols).withColumnRenamed('OP_CARRIER_FL_NUM', 'FLIGHT_NUM').withColumnRenamed('CRS_DEP_TIME', 'DEPT_TIME').withColumnRenamed('CRS_ARR_TIME', 'ARR_TIME').withColumnRenamed('ARR_DELAY_NEW', 'ARR_DELAY').withColumnRenamed('ORIGIN', 'ORIGIN_AIRPORT_CODE').withColumnRenamed('DEST', 'DEST_AIRPORT_CODE')"
      ],
      "execution_count": 96,
      "outputs": []
    },
    {
      "cell_type": "code",
      "metadata": {
        "colab": {
          "base_uri": "https://localhost:8080/"
        },
        "id": "T00w5O18GfIQ",
        "outputId": "db70a030-4887-40ff-a631-a358de67f7ea"
      },
      "source": [
        "ml_df.show()"
      ],
      "execution_count": 97,
      "outputs": [
        {
          "output_type": "stream",
          "name": "stdout",
          "text": [
            "+----+-----+------------+----------+-----------------+-------------------+----------------+---------------+---------------+-----------------+--------------+--------------+---------+--------+---------+---------+--------+-------+--------+-------------+-------------+---------+--------------+-------------------+\n",
            "|YEAR|MONTH|DAY_OF_MONTH|FLIGHT_NUM|ORIGIN_AIRPORT_ID|ORIGIN_AIRPORT_CODE|ORIGIN_CITY_NAME|ORIGIN_STATE_NM|DEST_AIRPORT_ID|DEST_AIRPORT_CODE|DEST_CITY_NAME| DEST_STATE_NM|DEPT_TIME|ARR_TIME|ARR_DELAY|CANCELLED|AIR_TIME|FLIGHTS|DISTANCE|CARRIER_DELAY|WEATHER_DELAY|NAS_DELAY|SECURITY_DELAY|LATE_AIRCRAFT_DELAY|\n",
            "+----+-----+------------+----------+-----------------+-------------------+----------------+---------------+---------------+-----------------+--------------+--------------+---------+--------+---------+---------+--------+-------+--------+-------------+-------------+---------+--------------+-------------------+\n",
            "|2021|    8|           5|      5574|            10599|                BHM|  Birmingham, AL|        Alabama|          11057|              CLT| Charlotte, NC|North Carolina|     1914|    2151|      0.0|      0.0|    65.0|    1.0|   350.0|         null|         null|     null|          null|               null|\n",
            "|2021|    8|           6|      5574|            10599|                BHM|  Birmingham, AL|        Alabama|          11057|              CLT| Charlotte, NC|North Carolina|     1914|    2151|     31.0|      0.0|    57.0|    1.0|   350.0|          0.0|          0.0|      0.0|           0.0|               31.0|\n",
            "|2021|    8|           8|      5574|            10599|                BHM|  Birmingham, AL|        Alabama|          11057|              CLT| Charlotte, NC|North Carolina|     1914|    2151|      0.0|      0.0|    55.0|    1.0|   350.0|         null|         null|     null|          null|               null|\n",
            "|2021|    8|           9|      5574|            10599|                BHM|  Birmingham, AL|        Alabama|          11057|              CLT| Charlotte, NC|North Carolina|     1914|    2151|      0.0|      0.0|    59.0|    1.0|   350.0|         null|         null|     null|          null|               null|\n",
            "|2021|    8|          10|      5574|            10599|                BHM|  Birmingham, AL|        Alabama|          11057|              CLT| Charlotte, NC|North Carolina|     1914|    2151|     48.0|      0.0|    57.0|    1.0|   350.0|          0.0|          0.0|      0.0|           0.0|               48.0|\n",
            "|2021|    8|          11|      5574|            10599|                BHM|  Birmingham, AL|        Alabama|          11057|              CLT| Charlotte, NC|North Carolina|     1914|    2151|     54.0|      0.0|    60.0|    1.0|   350.0|          0.0|          0.0|     29.0|           0.0|               25.0|\n",
            "|2021|    8|          12|      5574|            10599|                BHM|  Birmingham, AL|        Alabama|          11057|              CLT| Charlotte, NC|North Carolina|     1914|    2151|     69.0|      0.0|    54.0|    1.0|   350.0|          0.0|          0.0|      0.0|           0.0|               69.0|\n",
            "|2021|    8|          13|      5574|            10599|                BHM|  Birmingham, AL|        Alabama|          11057|              CLT| Charlotte, NC|North Carolina|     1914|    2151|     89.0|      0.0|    58.0|    1.0|   350.0|          0.0|          0.0|     70.0|           0.0|               19.0|\n",
            "|2021|    8|          15|      5574|            10599|                BHM|  Birmingham, AL|        Alabama|          11057|              CLT| Charlotte, NC|North Carolina|     1914|    2151|     null|      1.0|    null|    1.0|   350.0|         null|         null|     null|          null|               null|\n",
            "|2021|    8|          16|      5574|            10599|                BHM|  Birmingham, AL|        Alabama|          11057|              CLT| Charlotte, NC|North Carolina|     1914|    2151|     36.0|      0.0|    56.0|    1.0|   350.0|          0.0|          0.0|      0.0|           0.0|               36.0|\n",
            "|2021|    8|          18|      5574|            10599|                BHM|  Birmingham, AL|        Alabama|          11057|              CLT| Charlotte, NC|North Carolina|     1914|    2151|      0.0|      0.0|    60.0|    1.0|   350.0|         null|         null|     null|          null|               null|\n",
            "|2021|    8|          19|      5574|            10599|                BHM|  Birmingham, AL|        Alabama|          11057|              CLT| Charlotte, NC|North Carolina|     1914|    2151|     71.0|      0.0|    57.0|    1.0|   350.0|          0.0|          0.0|      5.0|           0.0|               66.0|\n",
            "|2021|    8|          20|      5574|            10599|                BHM|  Birmingham, AL|        Alabama|          11057|              CLT| Charlotte, NC|North Carolina|     1914|    2151|      0.0|      0.0|    58.0|    1.0|   350.0|         null|         null|     null|          null|               null|\n",
            "|2021|    8|          22|      5574|            10599|                BHM|  Birmingham, AL|        Alabama|          11057|              CLT| Charlotte, NC|North Carolina|     1914|    2151|      9.0|      0.0|    73.0|    1.0|   350.0|         null|         null|     null|          null|               null|\n",
            "|2021|    8|          25|      5574|            10599|                BHM|  Birmingham, AL|        Alabama|          11057|              CLT| Charlotte, NC|North Carolina|     1914|    2151|     74.0|      0.0|    65.0|    1.0|   350.0|          0.0|          0.0|     22.0|           0.0|               52.0|\n",
            "|2021|    8|          26|      5574|            10599|                BHM|  Birmingham, AL|        Alabama|          11057|              CLT| Charlotte, NC|North Carolina|     1914|    2151|     20.0|      0.0|    65.0|    1.0|   350.0|          0.0|          0.0|     20.0|           0.0|                0.0|\n",
            "|2021|    8|          27|      5574|            10599|                BHM|  Birmingham, AL|        Alabama|          11057|              CLT| Charlotte, NC|North Carolina|     1914|    2151|      0.0|      0.0|    66.0|    1.0|   350.0|         null|         null|     null|          null|               null|\n",
            "|2021|    8|          29|      5574|            10599|                BHM|  Birmingham, AL|        Alabama|          11057|              CLT| Charlotte, NC|North Carolina|     1914|    2151|      0.0|      0.0|    64.0|    1.0|   350.0|         null|         null|     null|          null|               null|\n",
            "|2021|    8|           1|      5574|            11057|                CLT|   Charlotte, NC| North Carolina|          10599|              BHM|Birmingham, AL|       Alabama|     1816|    1844|      0.0|      0.0|    62.0|    1.0|   350.0|         null|         null|     null|          null|               null|\n",
            "|2021|    8|           2|      5574|            11057|                CLT|   Charlotte, NC| North Carolina|          10599|              BHM|Birmingham, AL|       Alabama|     1816|    1844|      0.0|      0.0|    61.0|    1.0|   350.0|         null|         null|     null|          null|               null|\n",
            "+----+-----+------------+----------+-----------------+-------------------+----------------+---------------+---------------+-----------------+--------------+--------------+---------+--------+---------+---------+--------+-------+--------+-------------+-------------+---------+--------------+-------------------+\n",
            "only showing top 20 rows\n",
            "\n"
          ]
        }
      ]
    },
    {
      "cell_type": "code",
      "metadata": {
        "colab": {
          "base_uri": "https://localhost:8080/"
        },
        "id": "F8m8k4QlwJng",
        "outputId": "1f73883d-12aa-4143-8bef-13fac296135c"
      },
      "source": [
        "mode = \"append\"\n",
        "from getpass import getpass\n",
        "password = getpass('Enter database password')\n",
        "jdbc_url=\"jdbc:postgresql://capstone.c9x4gosspizq.us-east-2.rds.amazonaws.com:5432/Flight_delays\"\n",
        "config = {\"user\":\"postgres\", \n",
        "          \"password\": password, \n",
        "          \"driver\":\"org.postgresql.Driver\"}"
      ],
      "execution_count": 15,
      "outputs": [
        {
          "name": "stdout",
          "output_type": "stream",
          "text": [
            "Enter database password··········\n"
          ]
        }
      ]
    },
    {
      "cell_type": "code",
      "metadata": {
        "id": "Sow4-OZLxdPU"
      },
      "source": [
        "ml_df.write.jdbc(url=jdbc_url, table='flight_delays', mode=mode, properties=config)"
      ],
      "execution_count": 87,
      "outputs": []
    }
  ]
}